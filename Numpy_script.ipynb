{
 "cells": [
  {
   "cell_type": "code",
   "execution_count": 3,
   "id": "208e4e7e",
   "metadata": {},
   "outputs": [
    {
     "name": "stdout",
     "output_type": "stream",
     "text": [
      "<module 'numpy.version' from 'C:\\\\Users\\\\lsh1900356\\\\anaconda3\\\\lib\\\\site-packages\\\\numpy\\\\version.py'>\n"
     ]
    }
   ],
   "source": [
    "#n the script belo we first imported the numpy library as np\n",
    "import numpy as np\n",
    "print (np. version)\n"
   ]
  },
  {
   "cell_type": "code",
   "execution_count": 5,
   "id": "f3ce964f",
   "metadata": {},
   "outputs": [
    {
     "data": {
      "text/plain": [
       "array([2, 3, 4, 5, 6])"
      ]
     },
     "execution_count": 5,
     "metadata": {},
     "output_type": "execute_result"
    }
   ],
   "source": [
    "# the array method\n",
    "#list of numbers\n",
    "x=[2,3,4,5,6] #list\n",
    "num=np.array(x)\n",
    "num\n",
    "#creating numy array using np.array\n",
    "#nums=np.array(x)\n",
    "#display\n",
    "#the above code creates a 1-D array\n"
   ]
  },
  {
   "cell_type": "code",
   "execution_count": 6,
   "id": "abce572c",
   "metadata": {},
   "outputs": [
    {
     "data": {
      "text/plain": [
       "1"
      ]
     },
     "execution_count": 6,
     "metadata": {},
     "output_type": "execute_result"
    }
   ],
   "source": [
    "# get dimension (1-D array)\n",
    "#nums.ndim\n",
    "num.ndim"
   ]
  },
  {
   "cell_type": "code",
   "execution_count": 7,
   "id": "3f862f76",
   "metadata": {},
   "outputs": [
    {
     "data": {
      "text/plain": [
       "(5,)"
      ]
     },
     "execution_count": 7,
     "metadata": {},
     "output_type": "execute_result"
    }
   ],
   "source": [
    "#returns a tuple with each index hving the number of corresponding elements \n",
    "#0,1,2,3...n\n",
    "#nums.shape\n",
    "#represents the elements (not the index)\n",
    "num.shape \n",
    "# the commer in the result is due to the fact that we have a vector (1-dimension)"
   ]
  },
  {
   "cell_type": "code",
   "execution_count": 8,
   "id": "d6ad356d",
   "metadata": {},
   "outputs": [
    {
     "data": {
      "text/plain": [
       "dtype('int32')"
      ]
     },
     "execution_count": 8,
     "metadata": {},
     "output_type": "execute_result"
    }
   ],
   "source": [
    "#Get type\n",
    "#nums.dtype\n",
    "num.dtype\n"
   ]
  },
  {
   "cell_type": "code",
   "execution_count": 9,
   "id": "98e5b6b1",
   "metadata": {},
   "outputs": [
    {
     "data": {
      "text/plain": [
       "4"
      ]
     },
     "execution_count": 9,
     "metadata": {},
     "output_type": "execute_result"
    }
   ],
   "source": [
    "#length of one array element in bytes (if worried about your memory)\n",
    "#nums.itemsize\n",
    "num.itemsize"
   ]
  },
  {
   "cell_type": "code",
   "execution_count": 11,
   "id": "25f20d5b",
   "metadata": {},
   "outputs": [
    {
     "data": {
      "text/plain": [
       "20"
      ]
     },
     "execution_count": 11,
     "metadata": {},
     "output_type": "execute_result"
    }
   ],
   "source": [
    "#get total size total bytes consumed by the elements of the array\n",
    "num.nbytes"
   ]
  },
  {
   "cell_type": "code",
   "execution_count": 12,
   "id": "c9481fd4",
   "metadata": {},
   "outputs": [
    {
     "data": {
      "text/plain": [
       "5"
      ]
     },
     "execution_count": 12,
     "metadata": {},
     "output_type": "execute_result"
    }
   ],
   "source": [
    "#get number of elements \n",
    "num.size"
   ]
  },
  {
   "cell_type": "code",
   "execution_count": 13,
   "id": "88f0e0c7",
   "metadata": {},
   "outputs": [
    {
     "name": "stdout",
     "output_type": "stream",
     "text": [
      "100\n"
     ]
    },
    {
     "data": {
      "text/plain": [
       "1"
      ]
     },
     "execution_count": 13,
     "metadata": {},
     "output_type": "execute_result"
    }
   ],
   "source": [
    "##Scalar \n",
    "#0-D arrays, or scalars\n",
    "#arr=np.array(42)\n",
    "#display\n",
    "arr=np.array(100)\n",
    "print(arr)\n",
    "arr.size"
   ]
  },
  {
   "cell_type": "code",
   "execution_count": 14,
   "id": "3fc2ac63",
   "metadata": {},
   "outputs": [
    {
     "data": {
      "text/plain": [
       "5"
      ]
     },
     "execution_count": 14,
     "metadata": {},
     "output_type": "execute_result"
    }
   ],
   "source": [
    "##vector\n",
    "#1-D Arrays. Array tha has 0-D arrays as its elements is called uni-dimensional or \n",
    "y= [1,2,3,4,5]\n",
    "arr=np.array(y)\n",
    "arr.size\n",
    "#display\n",
    "\n",
    "#annual_income=[]"
   ]
  },
  {
   "cell_type": "code",
   "execution_count": 18,
   "id": "7190d10b",
   "metadata": {},
   "outputs": [
    {
     "data": {
      "text/plain": [
       "array([[ 3,  6],\n",
       "       [ 7, 88]])"
      ]
     },
     "execution_count": 18,
     "metadata": {},
     "output_type": "execute_result"
    }
   ],
   "source": [
    "##Matrix \n",
    "#An array that has 1-D arrays as it elements is called a 2-D array.These are alsways used to \n",
    "#create two lists\n",
    "\n",
    "#arr = np.array([[1,2,3], [4,5,6]])\n",
    "matrix = np.array([[3, 6], [7, 88]])\n",
    "matrix\n",
    "#print(arr)"
   ]
  },
  {
   "cell_type": "code",
   "execution_count": 20,
   "id": "fa1b5e28",
   "metadata": {},
   "outputs": [
    {
     "data": {
      "text/plain": [
       "array([[3.5, 6.6],\n",
       "       [7. , 8. ]])"
      ]
     },
     "execution_count": 20,
     "metadata": {},
     "output_type": "execute_result"
    }
   ],
   "source": [
    "#alternatively \n",
    "x=[3.5, 6.6]\n",
    "y=[7.0, 8.0]\n",
    "matrix = np.array([x,y])\n",
    "matrix"
   ]
  },
  {
   "cell_type": "code",
   "execution_count": 21,
   "id": "aedabc94",
   "metadata": {},
   "outputs": [
    {
     "data": {
      "text/plain": [
       "array([[[1, 2, 3],\n",
       "        [4, 5, 6]],\n",
       "\n",
       "       [[1, 2, 3],\n",
       "        [4, 5, 6]]])"
      ]
     },
     "execution_count": 21,
     "metadata": {},
     "output_type": "execute_result"
    }
   ],
   "source": [
    "##Tensor\n",
    "#3-D arrays. #3 lists\n",
    "#an array hat has 2-d arrays (matrices) as its elements is called 3-D array\n",
    "#these are often used to represent a 3rd order tensor.\n",
    "arr=np.array([[[1,2,3], [4,5,6]], [[1,2,3], [4,5,6]]])\n",
    "arr"
   ]
  },
  {
   "cell_type": "code",
   "execution_count": 22,
   "id": "b38ab60a",
   "metadata": {},
   "outputs": [
    {
     "data": {
      "text/plain": [
       "array([2, 3, 4, 5, 6, 7])"
      ]
     },
     "execution_count": 22,
     "metadata": {},
     "output_type": "execute_result"
    }
   ],
   "source": [
    "##Arrange method \n",
    "#start, end index\n",
    "twodim = np.arange(2,8)\n",
    "twodim\n",
    "#display"
   ]
  },
  {
   "cell_type": "code",
   "execution_count": 24,
   "id": "54982a92",
   "metadata": {},
   "outputs": [
    {
     "data": {
      "text/plain": [
       "array([50, 70, 90])"
      ]
     },
     "execution_count": 24,
     "metadata": {},
     "output_type": "execute_result"
    }
   ],
   "source": [
    "#Now let's add a step size of 2 to our array and see what happens:\n",
    "nums = np.arange (50,100,20)\n",
    "nums"
   ]
  },
  {
   "cell_type": "code",
   "execution_count": 28,
   "id": "3c0b9578",
   "metadata": {},
   "outputs": [
    {
     "data": {
      "text/plain": [
       "array([50, 53, 56, 59, 62, 65, 68, 71, 74, 77, 80, 83, 86, 89, 92, 95, 98])"
      ]
     },
     "execution_count": 28,
     "metadata": {},
     "output_type": "execute_result"
    }
   ],
   "source": [
    "nums = np.arange (50,101,3)\n",
    "nums"
   ]
  },
  {
   "cell_type": "code",
   "execution_count": null,
   "id": "2cb76a06",
   "metadata": {},
   "outputs": [],
   "source": []
  }
 ],
 "metadata": {
  "kernelspec": {
   "display_name": "Python 3",
   "language": "python",
   "name": "python3"
  },
  "language_info": {
   "codemirror_mode": {
    "name": "ipython",
    "version": 3
   },
   "file_extension": ".py",
   "mimetype": "text/x-python",
   "name": "python",
   "nbconvert_exporter": "python",
   "pygments_lexer": "ipython3",
   "version": "3.8.8"
  }
 },
 "nbformat": 4,
 "nbformat_minor": 5
}
